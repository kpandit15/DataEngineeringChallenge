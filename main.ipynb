{
 "cells": [
  {
   "cell_type": "code",
   "execution_count": null,
   "id": "a51ffef8",
   "metadata": {},
   "outputs": [],
   "source": [
    "import json\n",
    "\n",
    "import pandas as pd\n",
    "import pendulum\n",
    "\n",
    "from src.vpp.client import get_forecast\n"
   ]
  },
  {
   "cell_type": "markdown",
   "id": "f363e970",
   "metadata": {},
   "source": [
    "### read vpp data"
   ]
  },
  {
   "cell_type": "code",
   "execution_count": 30,
   "id": "a407d39e",
   "metadata": {},
   "outputs": [],
   "source": [
    "def get_vpp_forecast(asset_id: str, version: pendulum.DateTime) -> pd.DataFrame:\n",
    "    f = get_forecast(\n",
    "        asset_id=\"WND-DE-003\",\n",
    "        version=pendulum.datetime(2025, 6, 8, 8, 15, tz=\"Europe/Berlin\"),\n",
    "    )\n",
    "    data = json.loads(f)\n",
    "    df = pd.DataFrame(list(zip(*data[\"values\"], strict=False)), columns=data[\"column_ids\"])\n",
    "\n",
    "    df[\"start\"] = df[\"start\"].apply(lambda x: pendulum.from_timestamp(x, tz=\"Europe/Berlin\"))\n",
    "    df[\"end\"] = df[\"end\"].apply(lambda x: pendulum.from_timestamp(x, tz=\"Europe/Berlin\"))\n",
    "    df[\"version\"] = df[\"version\"].apply(lambda x: pendulum.from_timestamp(x, tz=\"Europe/Berlin\"))\n",
    "\n",
    "    return df"
   ]
  },
  {
   "cell_type": "code",
   "execution_count": 31,
   "id": "c83227ea",
   "metadata": {},
   "outputs": [],
   "source": [
    "def get_vpp_live_measured_infeed() -> pd.DataFrame:\n",
    "    pass"
   ]
  },
  {
   "cell_type": "code",
   "execution_count": null,
   "id": "ce177a75",
   "metadata": {},
   "outputs": [],
   "source": []
  },
  {
   "cell_type": "code",
   "execution_count": null,
   "id": "e504e5f5",
   "metadata": {},
   "outputs": [
    {
     "data": {
      "application/vnd.microsoft.datawrangler.viewer.v0+json": {
       "columns": [
        {
         "name": "index",
         "rawType": "int64",
         "type": "integer"
        },
        {
         "name": "start",
         "rawType": "datetime64[ns, Europe/Berlin]",
         "type": "unknown"
        },
        {
         "name": "end",
         "rawType": "datetime64[ns, Europe/Berlin]",
         "type": "unknown"
        },
        {
         "name": "version",
         "rawType": "datetime64[ns, Europe/Berlin]",
         "type": "unknown"
        },
        {
         "name": "power",
         "rawType": "float64",
         "type": "float"
        }
       ],
       "ref": "22024ff6-01a5-4b1e-b354-891dc735a1e8",
       "rows": [
        [
         "0",
         "2025-06-08 08:15:00+02:00",
         "2025-06-08 08:30:00+02:00",
         "2025-06-08 08:15:00+02:00",
         "2648.7683077788247"
        ],
        [
         "1",
         "2025-06-08 08:30:00+02:00",
         "2025-06-08 08:45:00+02:00",
         "2025-06-08 08:15:00+02:00",
         "1891.8061018206436"
        ],
        [
         "2",
         "2025-06-08 08:45:00+02:00",
         "2025-06-08 09:00:00+02:00",
         "2025-06-08 08:15:00+02:00",
         "0.0"
        ],
        [
         "3",
         "2025-06-08 09:00:00+02:00",
         "2025-06-08 09:15:00+02:00",
         "2025-06-08 08:15:00+02:00",
         "0.0"
        ],
        [
         "4",
         "2025-06-08 09:15:00+02:00",
         "2025-06-08 09:30:00+02:00",
         "2025-06-08 08:15:00+02:00",
         "1697.175789289033"
        ]
       ],
       "shape": {
        "columns": 4,
        "rows": 5
       }
      },
      "text/html": [
       "<div>\n",
       "<style scoped>\n",
       "    .dataframe tbody tr th:only-of-type {\n",
       "        vertical-align: middle;\n",
       "    }\n",
       "\n",
       "    .dataframe tbody tr th {\n",
       "        vertical-align: top;\n",
       "    }\n",
       "\n",
       "    .dataframe thead th {\n",
       "        text-align: right;\n",
       "    }\n",
       "</style>\n",
       "<table border=\"1\" class=\"dataframe\">\n",
       "  <thead>\n",
       "    <tr style=\"text-align: right;\">\n",
       "      <th></th>\n",
       "      <th>start</th>\n",
       "      <th>end</th>\n",
       "      <th>version</th>\n",
       "      <th>power</th>\n",
       "    </tr>\n",
       "  </thead>\n",
       "  <tbody>\n",
       "    <tr>\n",
       "      <th>0</th>\n",
       "      <td>2025-06-08 08:15:00+02:00</td>\n",
       "      <td>2025-06-08 08:30:00+02:00</td>\n",
       "      <td>2025-06-08 08:15:00+02:00</td>\n",
       "      <td>2648.768308</td>\n",
       "    </tr>\n",
       "    <tr>\n",
       "      <th>1</th>\n",
       "      <td>2025-06-08 08:30:00+02:00</td>\n",
       "      <td>2025-06-08 08:45:00+02:00</td>\n",
       "      <td>2025-06-08 08:15:00+02:00</td>\n",
       "      <td>1891.806102</td>\n",
       "    </tr>\n",
       "    <tr>\n",
       "      <th>2</th>\n",
       "      <td>2025-06-08 08:45:00+02:00</td>\n",
       "      <td>2025-06-08 09:00:00+02:00</td>\n",
       "      <td>2025-06-08 08:15:00+02:00</td>\n",
       "      <td>0.000000</td>\n",
       "    </tr>\n",
       "    <tr>\n",
       "      <th>3</th>\n",
       "      <td>2025-06-08 09:00:00+02:00</td>\n",
       "      <td>2025-06-08 09:15:00+02:00</td>\n",
       "      <td>2025-06-08 08:15:00+02:00</td>\n",
       "      <td>0.000000</td>\n",
       "    </tr>\n",
       "    <tr>\n",
       "      <th>4</th>\n",
       "      <td>2025-06-08 09:15:00+02:00</td>\n",
       "      <td>2025-06-08 09:30:00+02:00</td>\n",
       "      <td>2025-06-08 08:15:00+02:00</td>\n",
       "      <td>1697.175789</td>\n",
       "    </tr>\n",
       "  </tbody>\n",
       "</table>\n",
       "</div>"
      ],
      "text/plain": [
       "                      start                       end  \\\n",
       "0 2025-06-08 08:15:00+02:00 2025-06-08 08:30:00+02:00   \n",
       "1 2025-06-08 08:30:00+02:00 2025-06-08 08:45:00+02:00   \n",
       "2 2025-06-08 08:45:00+02:00 2025-06-08 09:00:00+02:00   \n",
       "3 2025-06-08 09:00:00+02:00 2025-06-08 09:15:00+02:00   \n",
       "4 2025-06-08 09:15:00+02:00 2025-06-08 09:30:00+02:00   \n",
       "\n",
       "                    version        power  \n",
       "0 2025-06-08 08:15:00+02:00  2648.768308  \n",
       "1 2025-06-08 08:15:00+02:00  1891.806102  \n",
       "2 2025-06-08 08:15:00+02:00     0.000000  \n",
       "3 2025-06-08 08:15:00+02:00     0.000000  \n",
       "4 2025-06-08 08:15:00+02:00  1697.175789  "
      ]
     },
     "execution_count": 29,
     "metadata": {},
     "output_type": "execute_result"
    }
   ],
   "source": [
    "df = get_vpp_forecast(\"WND-DE-003\", pendulum.datetime(2025, 6, 8, 8, 15, tz=\"Europe/Berlin\"))\n",
    "df.head()\n"
   ]
  },
  {
   "cell_type": "code",
   "execution_count": null,
   "id": "acd574ad",
   "metadata": {},
   "outputs": [],
   "source": []
  }
 ],
 "metadata": {
  "kernelspec": {
   "display_name": "DataEngineeringChallenge",
   "language": "python",
   "name": "python3"
  },
  "language_info": {
   "codemirror_mode": {
    "name": "ipython",
    "version": 3
   },
   "file_extension": ".py",
   "mimetype": "text/x-python",
   "name": "python",
   "nbconvert_exporter": "python",
   "pygments_lexer": "ipython3",
   "version": "3.12.6"
  }
 },
 "nbformat": 4,
 "nbformat_minor": 5
}
